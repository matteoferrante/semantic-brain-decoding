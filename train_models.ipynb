{
 "cells": [
  {
   "attachments": {},
   "cell_type": "markdown",
   "metadata": {},
   "source": [
    "# Semantic Brain Decoding\n",
    "\n",
    "## Training Notebook\n",
    "\n",
    "This notebook starts from the processed fMRI data and use a linear model or a classifier to estimate the image features."
   ]
  },
  {
   "attachments": {},
   "cell_type": "markdown",
   "metadata": {},
   "source": [
    "We start importing all the needed packages"
   ]
  },
  {
   "cell_type": "code",
   "execution_count": 5,
   "metadata": {},
   "outputs": [
    {
     "name": "stdout",
     "output_type": "stream",
     "text": [
      "Requirement already satisfied: mat73 in /home/matteo/anaconda3/envs/pytorch/lib/python3.9/site-packages (0.59)\n",
      "Requirement already satisfied: h5py in /home/matteo/anaconda3/envs/pytorch/lib/python3.9/site-packages (from mat73) (3.6.0)\n",
      "Requirement already satisfied: numpy in /home/matteo/anaconda3/envs/pytorch/lib/python3.9/site-packages (from mat73) (1.21.5)\n",
      "Note: you may need to restart the kernel to use updated packages.\n",
      "Requirement already satisfied: nibabel in /home/matteo/anaconda3/envs/pytorch/lib/python3.9/site-packages (3.2.2)\n",
      "Requirement already satisfied: numpy>=1.14 in /home/matteo/anaconda3/envs/pytorch/lib/python3.9/site-packages (from nibabel) (1.21.5)\n",
      "Requirement already satisfied: packaging>=14.3 in /home/matteo/anaconda3/envs/pytorch/lib/python3.9/site-packages (from nibabel) (21.3)\n",
      "Requirement already satisfied: setuptools in /home/matteo/anaconda3/envs/pytorch/lib/python3.9/site-packages (from nibabel) (65.5.0)\n",
      "Requirement already satisfied: pyparsing!=3.0.5,>=2.0.2 in /home/matteo/anaconda3/envs/pytorch/lib/python3.9/site-packages (from packaging>=14.3->nibabel) (3.0.9)\n",
      "Note: you may need to restart the kernel to use updated packages.\n"
     ]
    }
   ],
   "source": [
    "%pip install mat73\n",
    "%pip install nibabel"
   ]
  },
  {
   "cell_type": "code",
   "execution_count": 6,
   "metadata": {},
   "outputs": [
    {
     "name": "stderr",
     "output_type": "stream",
     "text": [
      "[nltk_data] Downloading package wordnet to /home/matteo/nltk_data...\n",
      "[nltk_data]   Package wordnet is already up-to-date!\n",
      "[nltk_data] Downloading package omw-1.4 to /home/matteo/nltk_data...\n",
      "[nltk_data]   Package omw-1.4 is already up-to-date!\n"
     ]
    }
   ],
   "source": [
    "\n",
    "import nibabel as nib\n",
    "import torch\n",
    "from torch import nn\n",
    "import torchvision\n",
    "import numpy as np\n",
    "import matplotlib.pyplot as plt\n",
    "import os\n",
    "import glob\n",
    "from os.path import join as opj\n",
    "import pandas as pd\n",
    "import nltk\n",
    "from nltk.corpus import wordnet as wn\n",
    "nltk.download('wordnet')\n",
    "nltk.download('omw-1.4')\n",
    "import tqdm\n",
    "from torchsummary import summary\n",
    "from PIL import Image\n",
    "\n",
    "from sklearn.model_selection import train_test_split\n",
    "import shutil\n",
    "from scipy.stats import hypergeom\n",
    "import seaborn as sns\n",
    "from termcolor import colored\n",
    "from sklearn.neighbors import NearestNeighbors\n",
    "from torchvision.utils import make_grid\n",
    "from sklearn.linear_model import Ridge\n",
    "from sklearn.preprocessing import StandardScaler, MinMaxScaler\n",
    "from sklearn.tree import DecisionTreeRegressor\n",
    "from sklearn.metrics import r2_score, mean_squared_error\n",
    "import nibabel.processing\n",
    "import pickle\n",
    "from scipy.io import loadmat\n",
    "import numpy as np\n",
    "import pandas as pd\n",
    "import sklearn.preprocessing\n",
    "from sklearn import preprocessing\n",
    "from sklearn.neighbors import KNeighborsClassifier\n",
    "\n",
    "import ast\n",
    "\n",
    "from god_decoding_utils import *\n",
    "from networks import *\n",
    "\n"
   ]
  },
  {
   "attachments": {},
   "cell_type": "markdown",
   "metadata": {},
   "source": [
    "## 1. Data Loading\n",
    "\n",
    "Processed data can be downloaded from https://figshare.com/articles/dataset/Generic_Object_Decoding/7387130 \n",
    "\n",
    "For copyright reasons, authors didn't make the visual images used in our experiments publicly available. \n",
    "You can request us to share the stimulus images at https://forms.gle/ujvA34948Xg49jdn9.\n",
    "\n",
    "Stimulus images used for higher visual area locazlier experiments in this study are available via https://forms.gle/c6HGatLrt7JtTGQk7.\n",
    "\n",
    "To run the following cells:\n",
    "\n",
    "1) put the downloaded fMRI files in the \"data/fMRI/GOD\" folder \n",
    "2) put the downloaded image stimuli in the \"data/fMRI/imagenet/images\" folder.\n",
    " \n"
   ]
  },
  {
   "cell_type": "code",
   "execution_count": 7,
   "metadata": {},
   "outputs": [],
   "source": [
    "# Initialize sub and roi variables\n",
    "# You can change sub to each number in [1-5]\n",
    "sub = \"3\"\n",
    "roi = \"ROI_VC\"\n",
    "\n",
    "# Initialize kamitani_data_mat with the path to a file containing data for Subject 3\n",
    "kamitani_data_mat = f\"data/fMRI/GOD/Subject{sub}.h5\"\n",
    "\n",
    "# Initialize imagenet_dir with the path to a directory containing images\n",
    "imagenet_dir = \"data/fMRI/imagenet/images\"\n",
    "\n",
    "# Initialize test_img_csv and train_img_csv with the paths to two CSV files\n",
    "test_img_csv = 'data/fMRI/GOD/imageID_test.csv'\n",
    "train_img_csv = 'data/fMRI/GOD/imageID_training.csv'\n",
    "\n",
    "# Create a data_handler object using the specified arguments\n",
    "handler = data_handler(h5_file=kamitani_data_mat, test_img_csv=test_img_csv, train_img_csv=train_img_csv)\n",
    "\n",
    "# Get data using the get_data method of the handler object\n",
    "Y, Y_test, Y_test_avg = handler.get_data(normalize=1, roi=roi)\n",
    "\n",
    "# Get labels using the get_labels method of the handler object\n",
    "labels_train, labels = handler.get_labels()\n",
    "\n",
    "# Get filenames using the get_filenames method of the handler object\n",
    "filenames_train, filenames_test = handler.get_filenames()\n",
    "\n",
    "# Convert filenames_train and filenames_test from arrays to Python lists\n",
    "filenames_train = [i.item() for i in filenames_train]\n",
    "filenames_test = [i.item() for i in filenames_test]\n",
    "\n",
    "# Initialize an empty list called filenames_test_avg\n",
    "filenames_test_avg = []\n",
    "\n",
    "# Iterate 50 times\n",
    "for i in range(50):\n",
    "    # Append the first element from filenames_test whose label is equal to i to filenames_test_avg\n",
    "    filenames_test_avg.append(np.array(filenames_test)[labels==i][0])\n"
   ]
  },
  {
   "attachments": {},
   "cell_type": "markdown",
   "metadata": {},
   "source": [
    "### Handle WordNet Mapping\n",
    "\n",
    "ImageNet synsets (image names) are mapped to WordNet."
   ]
  },
  {
   "cell_type": "code",
   "execution_count": 8,
   "metadata": {},
   "outputs": [],
   "source": [
    "with open('class_to_wordnet.json',) as f:\n",
    "    data = f.read()\n",
    "\n",
    "class2wordnet = ast.literal_eval(data)\n",
    "wordnet2class= {v[\"id\"] : k for k,v in class2wordnet.items()}"
   ]
  },
  {
   "cell_type": "code",
   "execution_count": 9,
   "metadata": {},
   "outputs": [],
   "source": [
    "# Initialize img_dir_path with the path to a directory containing training images\n",
    "img_dir_path = \"data/fMRI/imagenet/images/training\"\n",
    "\n",
    "# Initialize image_paths with a list of file paths to the training images\n",
    "image_paths = [os.path.join(img_dir_path, i) for i in filenames_train]\n",
    "\n",
    "# Initialize test_image_paths with a list of file paths to the test images\n",
    "test_image_paths = [os.path.join(imagenet_dir,\"test\", i) for i in filenames_test_avg]\n",
    "\n",
    "# Split the data into train and validation sets using the train_test_split function\n",
    "fmri_train, fmri_val, image_train, image_val = train_test_split(Y, image_paths, test_size=0.1, random_state=42)\n"
   ]
  },
  {
   "attachments": {},
   "cell_type": "markdown",
   "metadata": {},
   "source": [
    "### Dataset and Dataloaders\n",
    "\n",
    "A CustomDataset is implemented in the god_utils file that returns fmri data and the related image"
   ]
  },
  {
   "cell_type": "code",
   "execution_count": 10,
   "metadata": {},
   "outputs": [],
   "source": [
    "# Initialize BS with the batch size\n",
    "BS = 64\n",
    "\n",
    "# Initialize normalize with a transformation that normalizes the data\n",
    "normalize = torchvision.transforms.Normalize(mean=[0.485, 0.456, 0.406],\n",
    "                                 std=[0.229, 0.224, 0.225])\n",
    "\n",
    "# Initialize transform with a transformation that resizes and converts images to tensors\n",
    "transform = torchvision.transforms.Compose([torchvision.transforms.Resize(224),\n",
    "                                            torchvision.transforms.ToTensor(),\n",
    "                                            normalize])\n",
    "\n",
    "# Initialize train_dataset with a CustomDataset object using the fmri_train and image_train data and the transform\n",
    "train_dataset = CustomDataset(fmri_train, image_train, transform)\n",
    "\n",
    "# Initialize val_dataset with a CustomDataset object using the fmri_val and image_val data and the transform\n",
    "val_dataset = CustomDataset(fmri_val, image_val, transform)\n",
    "\n",
    "# Initialize test_dataset with a CustomDataset object using the Y_test_avg and test_image_paths data and the transform\n",
    "test_dataset = CustomDataset(Y_test_avg, test_image_paths, transform)\n",
    "\n",
    "# Initialize train_dataloader with a DataLoader object using the train_dataset and the specified batch size\n",
    "train_dataloader = torch.utils.data.DataLoader(train_dataset, batch_size=BS, shuffle=False)\n",
    "\n",
    "# Initialize val_dataloader with a DataLoader object using the val_dataset and the specified batch size\n",
    "val_dataloader = torch.utils.data.DataLoader(val_dataset, batch_size=BS, shuffle=False)\n",
    "\n",
    "# Initialize test_dataloader with a DataLoader object using the test_dataset and the specified batch size\n",
    "test_dataloader = torch.utils.data.DataLoader(test_dataset, batch_size=BS, shuffle=False)\n"
   ]
  },
  {
   "attachments": {},
   "cell_type": "markdown",
   "metadata": {},
   "source": [
    "## 2. CNN Model\n",
    "Here is defined the pretrained model to extract features from image. By default in this code, the last layer before classification is used as the latent space that describe the semantic space representation of the image itself, because it is composed by high level features"
   ]
  },
  {
   "cell_type": "code",
   "execution_count": 11,
   "metadata": {},
   "outputs": [],
   "source": [
    "# Load a pre-trained ResNet50 model from the torchvision library\n",
    "model = torchvision.models.resnet50(pretrained=True)\n",
    "\n",
    "# Get the list of child modules of the model\n",
    "modules = list(model.children())\n",
    "\n",
    "# Remove the last element of the list of child modules\n",
    "modules = modules[:-1]\n",
    "\n",
    "# Create a new Sequential model using the remaining child modules\n",
    "model = nn.Sequential(*modules)\n"
   ]
  },
  {
   "attachments": {},
   "cell_type": "markdown",
   "metadata": {},
   "source": [
    "### Extract the latent representation for each image and store it\n",
    "The following cell store in list fmri activity and latent representation for each image in the training, validation and test set"
   ]
  },
  {
   "cell_type": "code",
   "execution_count": 12,
   "metadata": {},
   "outputs": [
    {
     "name": "stderr",
     "output_type": "stream",
     "text": [
      "100%|██████████| 17/17 [00:19<00:00,  1.17s/it]\n",
      "100%|██████████| 2/2 [00:02<00:00,  1.02s/it]\n",
      "100%|██████████| 1/1 [00:00<00:00,  1.13it/s]\n"
     ]
    }
   ],
   "source": [
    "# Initialize empty lists to store the data\n",
    "x_train = []\n",
    "z_train = []\n",
    "y_train = []\n",
    "\n",
    "x_val = []\n",
    "z_val = []\n",
    "y_val = []\n",
    "\n",
    "x_test = []\n",
    "z_test = []\n",
    "y_test = []\n",
    "\n",
    "# Iterate over the train_dataloader, val_dataloader, and test_dataloader\n",
    "# x are fMRI preprocessed data, y are the image stimuli\n",
    "\n",
    "with torch.no_grad():\n",
    "    for x, y in tqdm.tqdm(train_dataloader):\n",
    "        # Use the model to compute the latent representation of y\n",
    "        z = model(y)\n",
    "        # Append the data to the respective lists\n",
    "        x_train.append(x)\n",
    "        z_train.append(z.squeeze())\n",
    "        y_train.append(y)\n",
    "\n",
    "    for x, y in tqdm.tqdm(val_dataloader):\n",
    "        # Use the model to compute the latent representation of y\n",
    "        z = model(y)\n",
    "        # Append the data to the respective lists\n",
    "        x_val.append(x)\n",
    "        z_val.append(z.squeeze())\n",
    "        y_val.append(y)\n",
    "    for x, y in tqdm.tqdm(test_dataloader):\n",
    "        # Use the model to compute the latent representation of y\n",
    "        z = model(y)\n",
    "        # Append the data to the respective lists\n",
    "        x_test.append(x)\n",
    "        z_test.append(z.squeeze())\n",
    "        y_test.append(y)\n",
    "\n",
    "# Concatenate the lists of data into numpy arrays\n",
    "x_train = torch.cat(x_train, 0).numpy()\n",
    "z_train = torch.cat(z_train, 0).numpy()\n",
    "y_train = torch.cat(y_train, 0).numpy()\n",
    "\n",
    "x_val = torch.cat(x_val, 0).numpy()\n",
    "z_val = torch.cat(z_val, 0).numpy()\n",
    "y_val = torch.cat(y_val, 0).numpy()\n",
    "\n",
    "x_test = torch.cat(x_test, 0).numpy()\n",
    "z_test = torch.cat(z_test, 0).numpy()\n",
    "y_test = torch.cat(y_test, 0).numpy()\n"
   ]
  },
  {
   "attachments": {},
   "cell_type": "markdown",
   "metadata": {},
   "source": [
    "## 3. Linear Model\n",
    "\n",
    "This cell train a Ridge Regression between fMRI and latent space."
   ]
  },
  {
   "cell_type": "code",
   "execution_count": 13,
   "metadata": {},
   "outputs": [],
   "source": [
    "# boolean to determine if the model should be trained or not, otherwise load pretrained models\n",
    "train=True"
   ]
  },
  {
   "cell_type": "code",
   "execution_count": 14,
   "metadata": {},
   "outputs": [],
   "source": [
    "#retrieve the latent space dimension that is the last element of shape of z_train (n_stimulus,latent_dim) while the fmri dim is the last of x_train (n_stimuls,fmri_dim)\n",
    "fmri_dim=x_train.shape[-1]\n",
    "latent_dim=z_train.shape[-1]\n",
    "\n",
    "#create a directory to save the models\n",
    "os.makedirs(\"models\",exist_ok=True)\n"
   ]
  },
  {
   "cell_type": "code",
   "execution_count": 15,
   "metadata": {},
   "outputs": [
    {
     "name": "stdout",
     "output_type": "stream",
     "text": [
      "rmse 0.031131619920862955\n",
      "rmse 0.20596414469737157\n",
      "rmse 0.26675824246443525\n",
      "rmse 0.16932684836048842\n"
     ]
    }
   ],
   "source": [
    "# Initialize a Ridge model with specified alpha and maximum number of iterations\n",
    "if train:\n",
    "    ridge = Ridge(alpha=1000, max_iter=5000)\n",
    "\n",
    "    # Fit the model to the training data\n",
    "    ridge.fit(x_train, z_train)\n",
    "\n",
    "else:\n",
    "    #load a pretrained model\n",
    "    ridge = pickle.load(open(f\"models/ridge_sub{sub}.sav\", 'rb'))\n",
    "\n",
    "\n",
    "# Use the model to predict the latent representation of the test data\n",
    "pred_test_latent = ridge.predict(x_test)\n",
    "\n",
    "# Initialize epsilon with a small value\n",
    "epsilon = 1e-10\n",
    "\n",
    "# Standardize the predicted latent representation of the test data\n",
    "std_norm_test_latent = (pred_test_latent - np.mean(pred_test_latent, axis=0)) / (epsilon + np.std(pred_test_latent, axis=0))\n",
    "\n",
    "# Scale and shift the standardized predicted latent representation to match the scale and shift of the training data\n",
    "pred_instance = std_norm_test_latent * np.std(z_train, axis=0) + np.mean(z_train, axis=0)\n",
    "\n",
    "# Use the model to predict the latent representation of the training and validation data\n",
    "train_predicted = ridge.predict(x_train)\n",
    "val_predicted = ridge.predict(x_val)\n",
    "\n",
    "# Calculate the root mean squared error (RMSE) of the predictions\n",
    "print(\"rmse\", mean_squared_error(z_train, train_predicted))\n",
    "print(\"rmse\", mean_squared_error(z_val, val_predicted))\n",
    "print(\"rmse\", mean_squared_error(z_test, pred_instance))\n",
    "print(\"rmse\", mean_squared_error(z_test, pred_test_latent))\n",
    "\n",
    "pickle.dump(ridge, open(f\"models/ridge_sub{sub}.sav\", 'wb'))\n"
   ]
  },
  {
   "attachments": {},
   "cell_type": "markdown",
   "metadata": {},
   "source": [
    "### 3B Eventually, train a Perceptron to map between fMRI and latent space. (OPTIONAL)\n",
    "\n",
    "In our experiments, we found that results are worse using perceptron, but can be optimized."
   ]
  },
  {
   "cell_type": "code",
   "execution_count": 16,
   "metadata": {},
   "outputs": [
    {
     "name": "stdout",
     "output_type": "stream",
     "text": [
      "----------------------------------------------------------------\n",
      "        Layer (type)               Output Shape         Param #\n",
      "================================================================\n",
      "            Linear-1                 [-1, 1024]       4,755,456\n",
      "              Tanh-2                 [-1, 1024]               0\n",
      "           Dropout-3                 [-1, 1024]               0\n",
      "            Linear-4                 [-1, 2048]       2,099,200\n",
      "================================================================\n",
      "Total params: 6,854,656\n",
      "Trainable params: 6,854,656\n",
      "Non-trainable params: 0\n",
      "----------------------------------------------------------------\n",
      "Input size (MB): 0.02\n",
      "Forward/backward pass size (MB): 0.04\n",
      "Params size (MB): 26.15\n",
      "Estimated Total Size (MB): 26.21\n",
      "----------------------------------------------------------------\n"
     ]
    },
    {
     "name": "stderr",
     "output_type": "stream",
     "text": [
      "/home/matteo/.local/lib/python3.9/site-packages/torch/nn/modules/lazy.py:180: UserWarning: Lazy modules are a new feature under heavy development so changes to the API or functionality can happen at any moment.\n",
      "  warnings.warn('Lazy modules are a new feature under heavy development '\n"
     ]
    }
   ],
   "source": [
    "# Initialize a BrainMLP model with specified latent dimension, hidden layer sizes, dropout rate, and activation function\n",
    "brain_model = BrainMLP(latent_dim=latent_dim, hidden=[1024], dropout=0.3, activation=\"tanh\")\n",
    "\n",
    "# Print a summary of the model, including the input and output shapes and the number of parameters\n",
    "summary(brain_model, (fmri_dim,), device=\"cpu\")\n"
   ]
  },
  {
   "cell_type": "code",
   "execution_count": 17,
   "metadata": {},
   "outputs": [],
   "source": [
    "# Convert the x_train, z_train, x_val, z_val, x_test, and z_test arrays to PyTorch tensors\n",
    "train_brain_dataset = torch.utils.data.TensorDataset(torch.Tensor(x_train), torch.Tensor(z_train))\n",
    "val_brain_dataset = torch.utils.data.TensorDataset(torch.Tensor(x_val), torch.Tensor(z_val))\n",
    "test_brain_dataset = torch.utils.data.TensorDataset(torch.Tensor(x_test), torch.Tensor(z_test))\n",
    "\n",
    "# Create DataLoaders for the training, validation, and test sets\n",
    "train_brain_dataloader = torch.utils.data.DataLoader(train_brain_dataset, batch_size=64, shuffle=True)\n",
    "val_brain_dataloader = torch.utils.data.DataLoader(val_brain_dataset, batch_size=64, shuffle=True)\n",
    "test_brain_dataloader = torch.utils.data.DataLoader(test_brain_dataset, batch_size=64, shuffle=True)\n"
   ]
  },
  {
   "cell_type": "code",
   "execution_count": 18,
   "metadata": {},
   "outputs": [],
   "source": [
    "# Set the device to use for training\n",
    "device = \"cuda:0\"\n",
    "\n",
    "# Set the number of epochs to train for\n",
    "EPOCHS = 200\n",
    "\n",
    "# Set the step size and gamma for the learning rate scheduler\n",
    "scheduler_step = 60\n",
    "gamma = 0.5\n",
    "\n",
    "# Move the brain model to the designated device\n",
    "brain_model = brain_model.to(device)\n",
    "\n",
    "# Create an Adam optimizer with a weight decay of 1e-5\n",
    "optim = torch.optim.Adam(brain_model.parameters(), lr=3e-3, weight_decay=1e-5)\n",
    "\n",
    "# Create a learning rate scheduler that reduces the learning rate by a factor of gamma every scheduler_step epochs\n",
    "scheduler = torch.optim.lr_scheduler.StepLR(optim, step_size=scheduler_step, gamma=gamma)\n",
    "\n",
    "# Create a mean squared error loss function\n",
    "criterion = nn.MSELoss()\n",
    "\n",
    "# Uncomment the following line to use a cosine embedding loss instead\n",
    "# criterion = nn.CosineEmbeddingLoss()\n",
    "# model=model.to(device)"
   ]
  },
  {
   "cell_type": "code",
   "execution_count": 19,
   "metadata": {},
   "outputs": [
    {
     "name": "stderr",
     "output_type": "stream",
     "text": [
      "[INFO] epoch: 199 loss: 0.04347758521051968 val_loss: 0.22093069553375244: 100%|██████████| 200/200 [00:16<00:00, 11.90it/s] \n"
     ]
    }
   ],
   "source": [
    "loss_history=[]\n",
    "val_loss_history=[]\n",
    "\n",
    "# frequency of validation\n",
    "val_freq=1\n",
    "\n",
    "\n",
    "# if train is set to True, train the model\n",
    "if train:\n",
    "    # create a progress bar\n",
    "    pbar=tqdm.tqdm(range(EPOCHS))\n",
    "    # iterate over the number of epochs\n",
    "    for epoch in pbar:\n",
    "        # call the train_brain_epoch function to train the model for one epoch\n",
    "        loss=train_brain_epoch(brain_model,train_dataloader=train_brain_dataloader,criterion=criterion,optim=optim,device=device)\n",
    "\n",
    "        # step the scheduler to adjust the learning rate\n",
    "        scheduler.step()\n",
    "\n",
    "        # append the loss to the loss history\n",
    "        loss_history.append(loss)\n",
    "\n",
    "        # if the current epoch is a multiple of val_freq, call the val_brain_epoch function to get the validation loss\n",
    "        if epoch%val_freq==0:\n",
    "            val_loss=val_brain_epoch(brain_model,val_dataloader=val_brain_dataloader,criterion=criterion,optim=optim,device=device)\n",
    "            val_loss_history.append(val_loss)\n",
    "\n",
    "        # update the progress bar description with the current epoch and loss information\n",
    "        if epoch>val_freq:\n",
    "            pbar.set_description(f\"[INFO] epoch: {epoch} loss: {loss_history[-1]} val_loss: {val_loss_history[-1]}\")\n",
    "        else:\n",
    "            pbar.set_description(f\"[INFO] epoch: {epoch} loss: {loss_history[-1]}\")\n",
    "\n",
    "\n",
    "    #save final weights\n",
    "    torch.save(brain_model.state_dict(),f\"models/brain_model_weights_sub{sub}.pt\")\n",
    "            \n",
    "else:\n",
    "    #load pretrained models\n",
    "\n",
    "    brain_model.load_state_dict(torch.load(f\"models/brain_model_weights_sub{sub}.pt\"))\n",
    "    brain_model=brain_model.to(device)\n",
    "    ridge = pickle.load(open(f\"models/ridge_sub{sub}.sav\", 'rb'))"
   ]
  },
  {
   "cell_type": "code",
   "execution_count": 20,
   "metadata": {},
   "outputs": [
    {
     "data": {
      "image/png": "[encoded data removed]",
      "text/plain": [
       "<Figure size 432x288 with 1 Axes>"
      ]
     },
     "metadata": {
      "needs_background": "light"
     },
     "output_type": "display_data"
    }
   ],
   "source": [
    "if train:\n",
    "    plt.plot(loss_history,label=\"loss\")\n",
    "    plt.plot(val_loss_history,label=\"val_loss\")\n",
    "    plt.legend()"
   ]
  },
  {
   "cell_type": "code",
   "execution_count": 21,
   "metadata": {},
   "outputs": [
    {
     "name": "stdout",
     "output_type": "stream",
     "text": [
      "rmse 0.019187706\n",
      "rmse 0.22068253\n",
      "rmse 0.26377356\n",
      "rmse 0.1762782\n"
     ]
    }
   ],
   "source": [
    "# Initialize variables for predictions on train, val, and test sets\n",
    "train_predict = None\n",
    "val_predict = None\n",
    "test_predict = None\n",
    "\n",
    "# Turn off gradient calculation\n",
    "with torch.no_grad():\n",
    "  # Make predictions on train set\n",
    "  train_predict = brain_model(torch.Tensor(x_train).to(device)).cpu().numpy()\n",
    "  # Make predictions on val set\n",
    "  val_predict = brain_model(torch.Tensor(x_val).to(device)).cpu().numpy()\n",
    "  # Make predictions on test set\n",
    "  test_predict = brain_model(torch.Tensor(x_test).to(device)).cpu().numpy()\n",
    "\n",
    "  # Standardize test predictions\n",
    "  std_norm_test_latent = (test_predict - np.mean(test_predict, axis=0)) / np.std(test_predict, axis=0)\n",
    "  # Adjust test predictions using mean and std of training set\n",
    "  test_predicted_adjusted = std_norm_test_latent * np.std(z_train, axis=0) + np.mean(z_train, axis=0)\n",
    "\n",
    "# Calculate and print root mean squared error for train, val, and test sets\n",
    "print(\"rmse\", mean_squared_error(z_train, train_predict))\n",
    "print(\"rmse\", mean_squared_error(z_val, val_predict))\n",
    "print(\"rmse\", mean_squared_error(z_test, test_predicted_adjusted))\n",
    "print(\"rmse\", mean_squared_error(z_test, test_predict))\n"
   ]
  },
  {
   "attachments": {},
   "cell_type": "markdown",
   "metadata": {},
   "source": [
    "## 4. Classification\n",
    "Following cells use nearest neighbors in the latent space to provide candidate labels for classification.\n",
    "Image features and relative labels can be extracted using the original ImageNet dataset but since this is time consuming a subset of 500K image features with labels can be downloaded from https://drive.google.com/drive/folders/1wHN1QZkwjan1jp6wDrezWNcCm8kVqOeJ?usp=share_link  \n"
   ]
  },
  {
   "cell_type": "code",
   "execution_count": 22,
   "metadata": {},
   "outputs": [],
   "source": [
    "#transform to restore original image means and stds\n",
    "unnorm = torchvision.transforms.Compose([ torchvision.transforms.Normalize(mean = [ 0., 0., 0. ], std = [ 1/0.229, 1/0.224, 1/0.225 ]), torchvision.transforms.Normalize(mean = [ -0.485, -0.456, -0.406 ], std = [ 1.,1.,1.] )])\n"
   ]
  },
  {
   "cell_type": "code",
   "execution_count": 23,
   "metadata": {},
   "outputs": [],
   "source": [
    "#where image features are saved\n",
    "features_path=\"data/fMRI/imagenet/features/feature_imagenet_500_resnet50.pt\"\n",
    "labels_path=\"data/fMRI/imagenet/features/labels_imagenet_500_resnet50.pt\"\n",
    "\n",
    "#load image features\n",
    "features=torch.load(features_path)\n",
    "labels=torch.load(labels_path)"
   ]
  },
  {
   "cell_type": "code",
   "execution_count": 24,
   "metadata": {},
   "outputs": [],
   "source": [
    "# Load labels for classifying the images\n",
    "with open('classes.txt', 'rb') as handle:\n",
    "    data_dict = handle.read()\n",
    "idx2name = pickle.loads(data_dict)\n",
    "\n",
    "# Load a pre-trained ResNet50 model and use the last fully-connected layer as the classifier head (should be the head of the CNN used before!)\n",
    "clf = torchvision.models.resnet50(pretrained=True)\n",
    "modules = list(clf.children())[-1:]\n",
    "clf = nn.Sequential(*modules)\n",
    "\n",
    "# Load the Nearest Neighbors model and fit it to the features of the images\n",
    "nbrs = NearestNeighbors(n_neighbors=5).fit(features.numpy())"
   ]
  },
  {
   "attachments": {},
   "cell_type": "markdown",
   "metadata": {},
   "source": [
    "### 4.1 Classification with classifier and nearest neighbors\n",
    "These are two methods to provide classes. We found the best one was the nearest neighbors.\n"
   ]
  },
  {
   "cell_type": "code",
   "execution_count": 27,
   "metadata": {},
   "outputs": [
    {
     "name": "stderr",
     "output_type": "stream",
     "text": [
      "100%|██████████| 1/1 [00:00<00:00,  1.04it/s]\n"
     ]
    }
   ],
   "source": [
    "# Initialize lists to store the predictions made by each model on the test data\n",
    "z_test_brain = []\n",
    "z_test_ridge = []\n",
    "z_test_model = []\n",
    "images_test = []\n",
    "\n",
    "# Disable gradient calculation\n",
    "with torch.no_grad():\n",
    "    # Iterate over the test data using a progress bar\n",
    "    for x, y in tqdm.tqdm(test_dataloader):\n",
    "        # Make predictions using the brain_model\n",
    "        z_b = brain_model(x.float().to(device)).cpu()\n",
    "        # Make predictions using the model\n",
    "        z_m = model(y).cpu().squeeze()\n",
    "        # Make predictions using the ridge model\n",
    "        z_r = torch.Tensor(ridge.predict(x.numpy()))\n",
    "        \n",
    "        # Append the predictions to the appropriate lists\n",
    "        z_test_brain.append(z_b)\n",
    "        z_test_model.append(z_m)\n",
    "        z_test_ridge.append(z_r)\n",
    "        images_test.append(y)\n",
    "\n",
    "# Concatenate the lists of predictions into tensors\n",
    "z_test_brain = torch.cat(z_test_brain, 0)\n",
    "z_test_model = torch.cat(z_test_model, 0)\n",
    "z_test_ridge = torch.cat(z_test_ridge, 0)\n",
    "# Concatenate the list of input data into a tensor\n",
    "images_test = torch.cat(images_test, 0)\n"
   ]
  },
  {
   "cell_type": "code",
   "execution_count": 28,
   "metadata": {},
   "outputs": [],
   "source": [
    "# Standardize the test brain predictions using the mean and standard deviation of the training data\n",
    "z_test_brain_std_norm = (z_test_brain - z_test_brain.mean(dim=0)) / z_test_brain.std(dim=0)\n",
    "# Adjust the standardized test brain predictions using the mean and standard deviation of the training data\n",
    "z_test_brain_adj = z_test_brain_std_norm * np.std(z_train, axis=0) + np.mean(z_train, axis=0)\n",
    "\n",
    "# Standardize the test ridge predictions using the mean and standard deviation of the training data\n",
    "z_test_ridge_std_norm = (z_test_ridge - z_test_ridge.mean(dim=0)) / z_test_ridge.std(dim=0)\n",
    "# Adjust the standardized test ridge predictions using the mean and standard deviation of the training data\n",
    "z_test_ridge_adj = z_test_ridge_std_norm * np.std(z_train, axis=0) + np.mean(z_train, axis=0)\n",
    "\n",
    "# Use the clf model to classify the test brain, model, and ridge predictions\n",
    "out_test_brain = clf(z_test_brain_adj)\n",
    "out_test_model = clf(z_test_model)\n",
    "out_test_ridge = clf(z_test_ridge_adj)\n"
   ]
  },
  {
   "attachments": {},
   "cell_type": "markdown",
   "metadata": {},
   "source": [
    "### Examples of classifications\n",
    "\n",
    "Choose a random integer i or change it in [0,49] to generate Nearest Neighbors candidates for a specific image and show the result.\n",
    "\n",
    "[MODEL] is the CNN model output with image as input, to have an upper bound in classification accuracy. <br>\n",
    "[BRAIN] is the multilayer perceptron model to estimate features from fMRI activity <br>\n",
    "[RIDGE] is the ridge model to estimate image features from fMRI activity<br> \n",
    "\n",
    "*clf* is the head of the CNN used for classification, where *nn* are the labels of the 5 nearest point in the latent space."
   ]
  },
  {
   "cell_type": "code",
   "execution_count": 30,
   "metadata": {},
   "outputs": [
    {
     "name": "stdout",
     "output_type": "stream",
     "text": [
      "clf brain: stretcher\n",
      "clf ridge: Afghan hound, Afghan\n",
      "\n",
      "NN [MODEL] closest: swing\n",
      "NN [BRAIN] closest: shower cap\n",
      "NN [RIDGE] closest: jean, blue jean, denim\n",
      "\n",
      "NN [MODEL] other guess: swing rocking chair, rocker crutch swing crutch\n",
      "NN [BRAIN] other guess: shower cap shower cap jean, blue jean, denim flat-coated retriever giant schnauzer\n",
      "NN [RIDGE] other guess: jean, blue jean, denim miniskirt, mini shower cap shower cap giant schnauzer\n"
     ]
    },
    {
     "data": {
      "image/png": "[encoded data removed]",
      "text/plain": [
       "<Figure size 432x288 with 1 Axes>"
      ]
     },
     "metadata": {
      "needs_background": "light"
     },
     "output_type": "display_data"
    }
   ],
   "source": [
    "# Select a random test sample\n",
    "i = np.random.randint(0, 50)\n",
    "\n",
    "# Use the nearest neighbors model to find the nearest neighbors of the test brain, model, and ridge predictions\n",
    "nn_brain = nbrs.kneighbors(z_test_brain_adj[i].numpy().reshape(1, -1))\n",
    "nn_model = nbrs.kneighbors(z_test_model[i].numpy().reshape(1, -1))\n",
    "nn_ridge = nbrs.kneighbors(z_test_ridge_adj[i].numpy().reshape(1, -1))\n",
    "\n",
    "# Plot the selected test sample\n",
    "plt.imshow(unnorm(images_test[i]).permute(1, 2, 0))\n",
    "plt.title(f\"model: {idx2name[out_test_model[i].argmax().item()]}\")\n",
    "\n",
    "# Print the classifications made by the clf model for the test brain, model, and ridge predictions\n",
    "print(f\"clf brain: {idx2name[out_test_brain[i].argmax().item()]}\")\n",
    "print(f\"clf ridge: {idx2name[out_test_ridge[i].argmax().item()]}\")\n",
    "print()\n",
    "\n",
    "# Get the classifications of the nearest neighbors for the test brain, model, and ridge predictions\n",
    "nn_model_guess = [idx2name[i.item()] for i in labels[nn_model[1][0]]]\n",
    "nn_brain_guess = [idx2name[i.item()] for i in labels[nn_brain[1][0]]]\n",
    "nn_ridge_guess = [idx2name[i.item()] for i in labels[nn_ridge[1][0]]]\n",
    "\n",
    "# Print the nearest neighbor classification for the test brain, model, and ridge predictions\n",
    "print(f\"NN [MODEL] closest: {nn_model_guess[0]}\")\n",
    "print(f\"NN [BRAIN] closest: {nn_brain_guess[0]}\")\n",
    "print(f\"NN [RIDGE] closest: {nn_ridge_guess[0]}\")\n",
    "print()\n",
    "\n",
    "# Print the other nearest neighbor classifications for the test brain, model, and ridge predictions\n",
    "print(f\"NN [MODEL] other guess: {' '.join(nn_model_guess)}\")\n",
    "print(f\"NN [BRAIN] other guess: {' '.join(nn_brain_guess)}\")\n",
    "print(f\"NN [RIDGE] other guess: {' '.join(nn_ridge_guess)}\")\n"
   ]
  }
 ],
 "metadata": {
  "kernelspec": {
   "display_name": "pytorch",
   "language": "python",
   "name": "python3"
  },
  "language_info": {
   "codemirror_mode": {
    "name": "ipython",
    "version": 3
   },
   "file_extension": ".py",
   "mimetype": "text/x-python",
   "name": "python",
   "nbconvert_exporter": "python",
   "pygments_lexer": "ipython3",
   "version": "3.9.12 (main, Apr  5 2022, 06:56:58) \n[GCC 7.5.0]"
  },
  "orig_nbformat": 4,
  "vscode": {
   "interpreter": {
    "hash": "f134746703af535b96560a842d6bc7f8b5958c33f9f1438957e820782c9aeaae"
   }
  }
 },
 "nbformat": 4,
 "nbformat_minor": 2
}
